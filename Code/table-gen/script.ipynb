{
 "cells": [
  {
   "cell_type": "code",
   "execution_count": 3,
   "id": "3bae137f",
   "metadata": {},
   "outputs": [
    {
     "name": "stderr",
     "output_type": "stream",
     "text": [
      "<>:9: SyntaxWarning: invalid escape sequence '\\D'\n",
      "<>:9: SyntaxWarning: invalid escape sequence '\\D'\n",
      "/var/folders/rv/w7k68zds33v40x4d_lx8k5rh0000gn/T/ipykernel_54426/1531561658.py:9: SyntaxWarning: invalid escape sequence '\\D'\n",
      "  markdown  = \"| Algorithm          | Run    | GD     | IGD      | $\\Delta$   | HV Platemo | HV Rect | HV HSO |\\n\"\n"
     ]
    }
   ],
   "source": [
    "import pandas as pd\n",
    "import os\n",
    "\n",
    "def generate_markdown_table(csv_path):\n",
    "    df = pd.read_csv(csv_path)\n",
    "\n",
    "    # Sorting by run to ensure order\n",
    "\n",
    "    markdown  = \"| Algorithm          | Run    | GD     | IGD      | $\\Delta$   | HV Platemo | HV Rect | HV HSO |\\n\"\n",
    "    markdown += \"|--------------------|--------|--------|----------|------------|------------|---------|--------|\\n\"\n",
    "    \n",
    "    for _, row in df.iterrows():\n",
    "        markdown += (\n",
    "            f\"| {row['Algorithm']:<13} | {int(row['Run']):<5} \"\n",
    "            f\"| {row['GD']:<6.4f} | {row['IGD']:<6.4f} \"\n",
    "            f\"| {row['Delta']:<7.4f}  | {row['HV_Platemo']:<6.4f} | {row['HV_Rectangles']:<6.4f} | {row['HV_HSO']:<6.4f} |\\n\"\n",
    "        )\n",
    "\n",
    "    return markdown"
   ]
  },
  {
   "cell_type": "code",
   "execution_count": 7,
   "id": "086b55ed",
   "metadata": {},
   "outputs": [
    {
     "name": "stdout",
     "output_type": "stream",
     "text": [
      "Tabella Markdown generata con successo!\n"
     ]
    }
   ],
   "source": [
    "csv_file = \"../output/DTLZ1_detailed_metrics.csv\"         # <-- metti qui il path al tuo CSV\n",
    "\n",
    "md_output = generate_markdown_table(csv_file)\n",
    "    \n",
    "# Salva su file .md oppure stampa su console\n",
    "with open(f\"table.md\", \"w\") as f:\n",
    "    f.write(md_output)\n",
    "    \n",
    "print(f\"Tabella Markdown generata con successo!\")\n"
   ]
  }
 ],
 "metadata": {
  "kernelspec": {
   "display_name": "IndustrialProject",
   "language": "python",
   "name": "python3"
  },
  "language_info": {
   "codemirror_mode": {
    "name": "ipython",
    "version": 3
   },
   "file_extension": ".py",
   "mimetype": "text/x-python",
   "name": "python",
   "nbconvert_exporter": "python",
   "pygments_lexer": "ipython3",
   "version": "3.12.8"
  }
 },
 "nbformat": 4,
 "nbformat_minor": 5
}
